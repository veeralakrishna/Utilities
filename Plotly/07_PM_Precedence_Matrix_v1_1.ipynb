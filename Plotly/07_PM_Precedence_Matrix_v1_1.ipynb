{
  "nbformat": 4,
  "nbformat_minor": 0,
  "metadata": {
    "colab": {
      "provenance": [],
      "authorship_tag": "ABX9TyP/No8tbNBByafO1Jjds59W",
      "include_colab_link": true
    },
    "kernelspec": {
      "name": "python3",
      "display_name": "Python 3"
    },
    "language_info": {
      "name": "python"
    }
  },
  "cells": [
    {
      "cell_type": "markdown",
      "metadata": {
        "id": "view-in-github",
        "colab_type": "text"
      },
      "source": [
        "<a href=\"https://colab.research.google.com/github/veeralakrishna/Utilities/blob/master/Plotly/07_PM_Precedence_Matrix_v1_1.ipynb\" target=\"_parent\"><img src=\"https://colab.research.google.com/assets/colab-badge.svg\" alt=\"Open In Colab\"/></a>"
      ]
    },
    {
      "cell_type": "markdown",
      "source": [
        "<h1><center>ProcessMining - Precedence Matrix</center></h1>"
      ],
      "metadata": {
        "id": "sOuGeDbutFn8"
      }
    },
    {
      "cell_type": "markdown",
      "source": [
        "A precendence diagrams is a two-dimensional matrix showing the flows between activities. It can be contain different type values, by adjusting the type argument."
      ],
      "metadata": {
        "id": "cDeU1eOQxyRc"
      }
    },
    {
      "cell_type": "code",
      "execution_count": null,
      "metadata": {
        "colab": {
          "base_uri": "https://localhost:8080/"
        },
        "id": "caDFasdFs8SH",
        "outputId": "146117d0-7291-46cc-d44f-e5cf6510754e"
      },
      "outputs": [
        {
          "output_type": "stream",
          "name": "stdout",
          "text": [
            "Looking in indexes: https://pypi.org/simple, https://us-python.pkg.dev/colab-wheels/public/simple/\n",
            "Collecting pm4py\n",
            "  Downloading pm4py-2.2.21-py3-none-any.whl (1.8 MB)\n",
            "\u001b[K     |████████████████████████████████| 1.8 MB 4.3 MB/s \n",
            "\u001b[?25hRequirement already satisfied: intervaltree in /usr/local/lib/python3.7/dist-packages (from pm4py) (2.1.0)\n",
            "Requirement already satisfied: graphviz in /usr/local/lib/python3.7/dist-packages (from pm4py) (0.10.1)\n",
            "Requirement already satisfied: cvxopt in /usr/local/lib/python3.7/dist-packages (from pm4py) (1.2.7)\n",
            "Requirement already satisfied: pandas>=1.1.5 in /usr/local/lib/python3.7/dist-packages (from pm4py) (1.3.5)\n",
            "Collecting pyvis\n",
            "  Downloading pyvis-0.2.1.tar.gz (21 kB)\n",
            "Requirement already satisfied: tqdm in /usr/local/lib/python3.7/dist-packages (from pm4py) (4.64.0)\n",
            "Requirement already satisfied: lxml in /usr/local/lib/python3.7/dist-packages (from pm4py) (4.2.6)\n",
            "Requirement already satisfied: pydotplus in /usr/local/lib/python3.7/dist-packages (from pm4py) (2.0.2)\n",
            "Collecting jsonpickle\n",
            "  Downloading jsonpickle-2.2.0-py2.py3-none-any.whl (39 kB)\n",
            "Collecting deprecation\n",
            "  Downloading deprecation-2.1.0-py2.py3-none-any.whl (11 kB)\n",
            "Requirement already satisfied: numpy>=1.19.5 in /usr/local/lib/python3.7/dist-packages (from pm4py) (1.21.6)\n",
            "Requirement already satisfied: scipy in /usr/local/lib/python3.7/dist-packages (from pm4py) (1.4.1)\n",
            "Requirement already satisfied: matplotlib in /usr/local/lib/python3.7/dist-packages (from pm4py) (3.2.2)\n",
            "Collecting stringdist\n",
            "  Downloading StringDist-1.0.9.tar.gz (7.4 kB)\n",
            "Requirement already satisfied: sympy in /usr/local/lib/python3.7/dist-packages (from pm4py) (1.7.1)\n",
            "Requirement already satisfied: pytz in /usr/local/lib/python3.7/dist-packages (from pm4py) (2022.1)\n",
            "Requirement already satisfied: networkx in /usr/local/lib/python3.7/dist-packages (from pm4py) (2.6.3)\n",
            "Requirement already satisfied: python-dateutil>=2.7.3 in /usr/local/lib/python3.7/dist-packages (from pandas>=1.1.5->pm4py) (2.8.2)\n",
            "Requirement already satisfied: six>=1.5 in /usr/local/lib/python3.7/dist-packages (from python-dateutil>=2.7.3->pandas>=1.1.5->pm4py) (1.15.0)\n",
            "Requirement already satisfied: packaging in /usr/local/lib/python3.7/dist-packages (from deprecation->pm4py) (21.3)\n",
            "Requirement already satisfied: sortedcontainers in /usr/local/lib/python3.7/dist-packages (from intervaltree->pm4py) (2.4.0)\n",
            "Requirement already satisfied: importlib-metadata in /usr/local/lib/python3.7/dist-packages (from jsonpickle->pm4py) (4.11.3)\n",
            "Requirement already satisfied: zipp>=0.5 in /usr/local/lib/python3.7/dist-packages (from importlib-metadata->jsonpickle->pm4py) (3.8.0)\n",
            "Requirement already satisfied: typing-extensions>=3.6.4 in /usr/local/lib/python3.7/dist-packages (from importlib-metadata->jsonpickle->pm4py) (4.2.0)\n",
            "Requirement already satisfied: kiwisolver>=1.0.1 in /usr/local/lib/python3.7/dist-packages (from matplotlib->pm4py) (1.4.2)\n",
            "Requirement already satisfied: cycler>=0.10 in /usr/local/lib/python3.7/dist-packages (from matplotlib->pm4py) (0.11.0)\n",
            "Requirement already satisfied: pyparsing!=2.0.4,!=2.1.2,!=2.1.6,>=2.0.1 in /usr/local/lib/python3.7/dist-packages (from matplotlib->pm4py) (3.0.9)\n",
            "Requirement already satisfied: jinja2>=2.9.6 in /usr/local/lib/python3.7/dist-packages (from pyvis->pm4py) (2.11.3)\n",
            "Requirement already satisfied: ipython>=5.3.0 in /usr/local/lib/python3.7/dist-packages (from pyvis->pm4py) (5.5.0)\n",
            "Requirement already satisfied: decorator in /usr/local/lib/python3.7/dist-packages (from ipython>=5.3.0->pyvis->pm4py) (4.4.2)\n",
            "Requirement already satisfied: prompt-toolkit<2.0.0,>=1.0.4 in /usr/local/lib/python3.7/dist-packages (from ipython>=5.3.0->pyvis->pm4py) (1.0.18)\n",
            "Requirement already satisfied: pickleshare in /usr/local/lib/python3.7/dist-packages (from ipython>=5.3.0->pyvis->pm4py) (0.7.5)\n",
            "Requirement already satisfied: pexpect in /usr/local/lib/python3.7/dist-packages (from ipython>=5.3.0->pyvis->pm4py) (4.8.0)\n",
            "Requirement already satisfied: simplegeneric>0.8 in /usr/local/lib/python3.7/dist-packages (from ipython>=5.3.0->pyvis->pm4py) (0.8.1)\n",
            "Requirement already satisfied: traitlets>=4.2 in /usr/local/lib/python3.7/dist-packages (from ipython>=5.3.0->pyvis->pm4py) (5.1.1)\n",
            "Requirement already satisfied: pygments in /usr/local/lib/python3.7/dist-packages (from ipython>=5.3.0->pyvis->pm4py) (2.6.1)\n",
            "Requirement already satisfied: setuptools>=18.5 in /usr/local/lib/python3.7/dist-packages (from ipython>=5.3.0->pyvis->pm4py) (57.4.0)\n",
            "Requirement already satisfied: MarkupSafe>=0.23 in /usr/local/lib/python3.7/dist-packages (from jinja2>=2.9.6->pyvis->pm4py) (2.0.1)\n",
            "Requirement already satisfied: wcwidth in /usr/local/lib/python3.7/dist-packages (from prompt-toolkit<2.0.0,>=1.0.4->ipython>=5.3.0->pyvis->pm4py) (0.2.5)\n",
            "Requirement already satisfied: ptyprocess>=0.5 in /usr/local/lib/python3.7/dist-packages (from pexpect->ipython>=5.3.0->pyvis->pm4py) (0.7.0)\n",
            "Requirement already satisfied: mpmath>=0.19 in /usr/local/lib/python3.7/dist-packages (from sympy->pm4py) (1.2.1)\n",
            "Building wheels for collected packages: pyvis, stringdist\n",
            "  Building wheel for pyvis (setup.py) ... \u001b[?25l\u001b[?25hdone\n",
            "  Created wheel for pyvis: filename=pyvis-0.2.1-py3-none-any.whl size=23688 sha256=50f1734ca0b0f483bf7b620d83494a2f45bbfddbd1666be753859936703f911e\n",
            "  Stored in directory: /root/.cache/pip/wheels/2a/8f/04/6340d46afc74f59cc857a594ca1a2a14a1f4cbd4fd6c2e9306\n",
            "  Building wheel for stringdist (setup.py) ... \u001b[?25l\u001b[?25hdone\n",
            "  Created wheel for stringdist: filename=StringDist-1.0.9-cp37-cp37m-linux_x86_64.whl size=23605 sha256=f82827a07664ac4947d95b55dee7325ac3814a03292592590443b063688b0995\n",
            "  Stored in directory: /root/.cache/pip/wheels/d7/9c/d4/63bc3d8931de0980b9e4a724dea290bb40b8b1b2bd6227c8da\n",
            "Successfully built pyvis stringdist\n",
            "Installing collected packages: jsonpickle, stringdist, pyvis, deprecation, pm4py\n",
            "Successfully installed deprecation-2.1.0 jsonpickle-2.2.0 pm4py-2.2.21 pyvis-0.2.1 stringdist-1.0.9\n"
          ]
        }
      ],
      "source": [
        "pip install pm4py"
      ]
    },
    {
      "cell_type": "code",
      "source": [
        "import plotly.express as px\n",
        "from textwrap import wrap\n",
        "\n",
        "named_colorscales = px.colors.named_colorscales()\n",
        "\n",
        "# named_colorscales"
      ],
      "metadata": {
        "id": "hfV4q33tu_ps"
      },
      "execution_count": 1,
      "outputs": []
    },
    {
      "cell_type": "code",
      "source": [
        "import pandas as pd\n",
        "import numpy as np\n",
        "import itertools\n",
        "\n",
        "import seaborn as sns\n",
        "import matplotlib.pyplot as plt\n",
        "import matplotlib.patches as patches\n",
        "from matplotlib.patches import FancyBboxPatch\n",
        "\n",
        "\n",
        "import pm4py\n",
        "from pm4py.util import constants\n",
        "from pm4py.objects.conversion.log import converter as log_converter\n",
        "from pm4py.algo.discovery.dfg import algorithm as dfg_discovery\n",
        "from pm4py.visualization.dfg import visualizer as dfg_visualization\n",
        "from pm4py.algo.filtering.log.attributes import attributes_filter\n",
        "from pm4py.statistics.traces.generic.log import case_statistics\n",
        "from pm4py.algo.filtering.log.attributes import attributes_filter\n",
        "from pm4py.visualization.graphs import visualizer as graphs_visualizer\n",
        "from pm4py.algo.discovery.correlation_mining import algorithm as correlation_miner\n",
        "\n",
        "\n",
        "pd.options.mode.chained_assignment = None  # default='warn'"
      ],
      "metadata": {
        "id": "dTtJAXqLtKsS"
      },
      "execution_count": null,
      "outputs": []
    },
    {
      "cell_type": "code",
      "source": [
        "df = pm4py.format_dataframe(pd.read_csv('https://raw.githubusercontent.com/pm4py/pm4py-core/release/notebooks/data/running_example.csv', sep=';'), case_id='case_id',activity_key='activity', timestamp_key='timestamp')"
      ],
      "metadata": {
        "id": "Fj7aThbltNBO"
      },
      "execution_count": null,
      "outputs": []
    },
    {
      "cell_type": "code",
      "source": [
        "df = pd.read_csv(\"processmining.csv\")\n",
        "\n",
        "\n",
        "df['CREATE_DATE'] = pd.to_datetime(df['CREATE_DATE'], format=\"%d-%b-%y\")\n",
        "\n",
        "df['COMPLETION_DATE'] = pd.to_datetime(df['COMPLETION_DATE'], format=\"%d-%b-%y\")\n",
        "\n",
        "\n",
        "df = df.sort_values(by=['CREATE_DATE'])\n",
        "\n",
        "# df.reset_index(inplace=True, drop=True)\n",
        "\n",
        "data = pm4py.format_dataframe(df, \"CLAIM_ID\", \"TASK\", \"CREATE_DATE\")\n",
        "\n",
        "log = log_converter.apply(data)"
      ],
      "metadata": {
        "id": "0yXB84UcrPyh"
      },
      "execution_count": null,
      "outputs": []
    },
    {
      "cell_type": "code",
      "source": [
        "# log = log_converter.apply(df)"
      ],
      "metadata": {
        "id": "EdTLMYhltR-3"
      },
      "execution_count": null,
      "outputs": []
    },
    {
      "cell_type": "code",
      "source": [
        "\n",
        "\n",
        "\n",
        "def get_antecedent_consequent(log):\n",
        "\n",
        "    \"\"\"\n",
        "    Function to get antecedent and consequent from log\n",
        "\n",
        "    Params:\n",
        "        log         : pm4py log\n",
        "\n",
        "    Returns:\n",
        "    preced_df       : a pandas dataframe with antecedent $ consequent frequencies\n",
        "\n",
        "    \"\"\"\n",
        "\n",
        "    d = pm4py.discover_dfg(log)[0]\n",
        "\n",
        "    preced_df = pd.DataFrame.from_dict(d, orient='index').reset_index()\n",
        "    preced_df.rename(columns={\"index\" : \"Antecedent,Consequent\",\n",
        "                              0 : \"Absolute_Frequency\"},\n",
        "                     inplace=True)\n",
        "\n",
        "    preced_df['Antecedent'], preced_df['Consequent'] = zip(*preced_df[\"Antecedent,Consequent\"])\n",
        "\n",
        "    # calculate relative frequencies from values in column 'Absolute_Frequency'\n",
        "    preced_df['Relative_Frequency'] = (preced_df['Absolute_Frequency']/preced_df['Absolute_Frequency'].sum())*100\n",
        "\n",
        "    preced_df[\"Relative_Frequency\"] = preced_df[\"Relative_Frequency\"].round(3)\n",
        "\n",
        "    return preced_df"
      ],
      "metadata": {
        "id": "UvfzXwBXZtvV"
      },
      "execution_count": null,
      "outputs": []
    },
    {
      "cell_type": "code",
      "source": [
        "preced_df = get_antecedent_consequent(log)"
      ],
      "metadata": {
        "id": "rylTV3jxaOo-"
      },
      "execution_count": null,
      "outputs": []
    },
    {
      "cell_type": "code",
      "source": [
        "[\"plotly\", \"plotly_white\", \"plotly_dark\", \"ggplot2\", \"seaborn\", \"simple_white\", \"none\"]"
      ],
      "metadata": {
        "colab": {
          "base_uri": "https://localhost:8080/"
        },
        "id": "Rr_U1QnavNq2",
        "outputId": "8dbc5801-53a1-45c0-dcfb-40c45ddee2f2"
      },
      "execution_count": null,
      "outputs": [
        {
          "output_type": "execute_result",
          "data": {
            "text/plain": [
              "['plotly',\n",
              " 'plotly_white',\n",
              " 'plotly_dark',\n",
              " 'ggplot2',\n",
              " 'seaborn',\n",
              " 'simple_white',\n",
              " 'none']"
            ]
          },
          "metadata": {},
          "execution_count": 29
        }
      ]
    },
    {
      "cell_type": "code",
      "source": [
        "preced_df\n",
        "\n",
        "# [[\"Antecedent\", \"Consequent\", \"Absolute_Frequency\", \"Relative_Frequency\"]]"
      ],
      "metadata": {
        "colab": {
          "base_uri": "https://localhost:8080/",
          "height": 424
        },
        "id": "_V6ZcpkGl1yG",
        "outputId": "1476293b-278a-4035-ce38-8087358060ef"
      },
      "execution_count": null,
      "outputs": [
        {
          "output_type": "execute_result",
          "data": {
            "text/plain": [
              "                                 Antecedent,Consequent  Absolute_Frequency  \\\n",
              "0    (Claim Handler - Review File, Claim Handler - ...                  16   \n",
              "1       (Claim Handler - Review File, Review New File)                   8   \n",
              "2    (Review New File, Complete Self Service FNOL -...                  13   \n",
              "3    (Complete Self Service FNOL - Auto, Schedule I...                  13   \n",
              "4    (Schedule Inspection Assignment, Order Police ...                   4   \n",
              "..                                                 ...                 ...   \n",
              "502  (Send at fault letter to First Party, Complete...                   1   \n",
              "503  (Review Claim for Closure or Send Status Lette...                   1   \n",
              "504  (Check Issued - Review for Closure, Express Fi...                   1   \n",
              "505    (Review New File, Send Diminished Value letter)                   1   \n",
              "506  (Send Diminished Value letter, Claim Handler -...                   1   \n",
              "\n",
              "                                         Antecedent  \\\n",
              "0                       Claim Handler - Review File   \n",
              "1                       Claim Handler - Review File   \n",
              "2                                   Review New File   \n",
              "3                 Complete Self Service FNOL - Auto   \n",
              "4                    Schedule Inspection Assignment   \n",
              "..                                              ...   \n",
              "502             Send at fault letter to First Party   \n",
              "503  Review Claim for Closure or Send Status Letter   \n",
              "504               Check Issued - Review for Closure   \n",
              "505                                 Review New File   \n",
              "506                    Send Diminished Value letter   \n",
              "\n",
              "                             Consequent  Relative_Frequency  \n",
              "0           Claim Handler - Review File               1.488  \n",
              "1                       Review New File               0.744  \n",
              "2     Complete Self Service FNOL - Auto               1.209  \n",
              "3        Schedule Inspection Assignment               1.209  \n",
              "4    Order Police Report - Auto Express               0.372  \n",
              "..                                  ...                 ...  \n",
              "502   Complete Self Service FNOL - Auto               0.093  \n",
              "503   Check Issued - Review for Closure               0.093  \n",
              "504          Express Financials Pending               0.093  \n",
              "505        Send Diminished Value letter               0.093  \n",
              "506         Claim Handler - Review File               0.093  \n",
              "\n",
              "[507 rows x 5 columns]"
            ],
            "text/html": [
              "\n",
              "  <div id=\"df-4595eac1-ee68-4b26-92d3-5a3f5e5ee5d1\">\n",
              "    <div class=\"colab-df-container\">\n",
              "      <div>\n",
              "<style scoped>\n",
              "    .dataframe tbody tr th:only-of-type {\n",
              "        vertical-align: middle;\n",
              "    }\n",
              "\n",
              "    .dataframe tbody tr th {\n",
              "        vertical-align: top;\n",
              "    }\n",
              "\n",
              "    .dataframe thead th {\n",
              "        text-align: right;\n",
              "    }\n",
              "</style>\n",
              "<table border=\"1\" class=\"dataframe\">\n",
              "  <thead>\n",
              "    <tr style=\"text-align: right;\">\n",
              "      <th></th>\n",
              "      <th>Antecedent,Consequent</th>\n",
              "      <th>Absolute_Frequency</th>\n",
              "      <th>Antecedent</th>\n",
              "      <th>Consequent</th>\n",
              "      <th>Relative_Frequency</th>\n",
              "    </tr>\n",
              "  </thead>\n",
              "  <tbody>\n",
              "    <tr>\n",
              "      <th>0</th>\n",
              "      <td>(Claim Handler - Review File, Claim Handler - ...</td>\n",
              "      <td>16</td>\n",
              "      <td>Claim Handler - Review File</td>\n",
              "      <td>Claim Handler - Review File</td>\n",
              "      <td>1.488</td>\n",
              "    </tr>\n",
              "    <tr>\n",
              "      <th>1</th>\n",
              "      <td>(Claim Handler - Review File, Review New File)</td>\n",
              "      <td>8</td>\n",
              "      <td>Claim Handler - Review File</td>\n",
              "      <td>Review New File</td>\n",
              "      <td>0.744</td>\n",
              "    </tr>\n",
              "    <tr>\n",
              "      <th>2</th>\n",
              "      <td>(Review New File, Complete Self Service FNOL -...</td>\n",
              "      <td>13</td>\n",
              "      <td>Review New File</td>\n",
              "      <td>Complete Self Service FNOL - Auto</td>\n",
              "      <td>1.209</td>\n",
              "    </tr>\n",
              "    <tr>\n",
              "      <th>3</th>\n",
              "      <td>(Complete Self Service FNOL - Auto, Schedule I...</td>\n",
              "      <td>13</td>\n",
              "      <td>Complete Self Service FNOL - Auto</td>\n",
              "      <td>Schedule Inspection Assignment</td>\n",
              "      <td>1.209</td>\n",
              "    </tr>\n",
              "    <tr>\n",
              "      <th>4</th>\n",
              "      <td>(Schedule Inspection Assignment, Order Police ...</td>\n",
              "      <td>4</td>\n",
              "      <td>Schedule Inspection Assignment</td>\n",
              "      <td>Order Police Report - Auto Express</td>\n",
              "      <td>0.372</td>\n",
              "    </tr>\n",
              "    <tr>\n",
              "      <th>...</th>\n",
              "      <td>...</td>\n",
              "      <td>...</td>\n",
              "      <td>...</td>\n",
              "      <td>...</td>\n",
              "      <td>...</td>\n",
              "    </tr>\n",
              "    <tr>\n",
              "      <th>502</th>\n",
              "      <td>(Send at fault letter to First Party, Complete...</td>\n",
              "      <td>1</td>\n",
              "      <td>Send at fault letter to First Party</td>\n",
              "      <td>Complete Self Service FNOL - Auto</td>\n",
              "      <td>0.093</td>\n",
              "    </tr>\n",
              "    <tr>\n",
              "      <th>503</th>\n",
              "      <td>(Review Claim for Closure or Send Status Lette...</td>\n",
              "      <td>1</td>\n",
              "      <td>Review Claim for Closure or Send Status Letter</td>\n",
              "      <td>Check Issued - Review for Closure</td>\n",
              "      <td>0.093</td>\n",
              "    </tr>\n",
              "    <tr>\n",
              "      <th>504</th>\n",
              "      <td>(Check Issued - Review for Closure, Express Fi...</td>\n",
              "      <td>1</td>\n",
              "      <td>Check Issued - Review for Closure</td>\n",
              "      <td>Express Financials Pending</td>\n",
              "      <td>0.093</td>\n",
              "    </tr>\n",
              "    <tr>\n",
              "      <th>505</th>\n",
              "      <td>(Review New File, Send Diminished Value letter)</td>\n",
              "      <td>1</td>\n",
              "      <td>Review New File</td>\n",
              "      <td>Send Diminished Value letter</td>\n",
              "      <td>0.093</td>\n",
              "    </tr>\n",
              "    <tr>\n",
              "      <th>506</th>\n",
              "      <td>(Send Diminished Value letter, Claim Handler -...</td>\n",
              "      <td>1</td>\n",
              "      <td>Send Diminished Value letter</td>\n",
              "      <td>Claim Handler - Review File</td>\n",
              "      <td>0.093</td>\n",
              "    </tr>\n",
              "  </tbody>\n",
              "</table>\n",
              "<p>507 rows × 5 columns</p>\n",
              "</div>\n",
              "      <button class=\"colab-df-convert\" onclick=\"convertToInteractive('df-4595eac1-ee68-4b26-92d3-5a3f5e5ee5d1')\"\n",
              "              title=\"Convert this dataframe to an interactive table.\"\n",
              "              style=\"display:none;\">\n",
              "        \n",
              "  <svg xmlns=\"http://www.w3.org/2000/svg\" height=\"24px\"viewBox=\"0 0 24 24\"\n",
              "       width=\"24px\">\n",
              "    <path d=\"M0 0h24v24H0V0z\" fill=\"none\"/>\n",
              "    <path d=\"M18.56 5.44l.94 2.06.94-2.06 2.06-.94-2.06-.94-.94-2.06-.94 2.06-2.06.94zm-11 1L8.5 8.5l.94-2.06 2.06-.94-2.06-.94L8.5 2.5l-.94 2.06-2.06.94zm10 10l.94 2.06.94-2.06 2.06-.94-2.06-.94-.94-2.06-.94 2.06-2.06.94z\"/><path d=\"M17.41 7.96l-1.37-1.37c-.4-.4-.92-.59-1.43-.59-.52 0-1.04.2-1.43.59L10.3 9.45l-7.72 7.72c-.78.78-.78 2.05 0 2.83L4 21.41c.39.39.9.59 1.41.59.51 0 1.02-.2 1.41-.59l7.78-7.78 2.81-2.81c.8-.78.8-2.07 0-2.86zM5.41 20L4 18.59l7.72-7.72 1.47 1.35L5.41 20z\"/>\n",
              "  </svg>\n",
              "      </button>\n",
              "      \n",
              "  <style>\n",
              "    .colab-df-container {\n",
              "      display:flex;\n",
              "      flex-wrap:wrap;\n",
              "      gap: 12px;\n",
              "    }\n",
              "\n",
              "    .colab-df-convert {\n",
              "      background-color: #E8F0FE;\n",
              "      border: none;\n",
              "      border-radius: 50%;\n",
              "      cursor: pointer;\n",
              "      display: none;\n",
              "      fill: #1967D2;\n",
              "      height: 32px;\n",
              "      padding: 0 0 0 0;\n",
              "      width: 32px;\n",
              "    }\n",
              "\n",
              "    .colab-df-convert:hover {\n",
              "      background-color: #E2EBFA;\n",
              "      box-shadow: 0px 1px 2px rgba(60, 64, 67, 0.3), 0px 1px 3px 1px rgba(60, 64, 67, 0.15);\n",
              "      fill: #174EA6;\n",
              "    }\n",
              "\n",
              "    [theme=dark] .colab-df-convert {\n",
              "      background-color: #3B4455;\n",
              "      fill: #D2E3FC;\n",
              "    }\n",
              "\n",
              "    [theme=dark] .colab-df-convert:hover {\n",
              "      background-color: #434B5C;\n",
              "      box-shadow: 0px 1px 3px 1px rgba(0, 0, 0, 0.15);\n",
              "      filter: drop-shadow(0px 1px 2px rgba(0, 0, 0, 0.3));\n",
              "      fill: #FFFFFF;\n",
              "    }\n",
              "  </style>\n",
              "\n",
              "      <script>\n",
              "        const buttonEl =\n",
              "          document.querySelector('#df-4595eac1-ee68-4b26-92d3-5a3f5e5ee5d1 button.colab-df-convert');\n",
              "        buttonEl.style.display =\n",
              "          google.colab.kernel.accessAllowed ? 'block' : 'none';\n",
              "\n",
              "        async function convertToInteractive(key) {\n",
              "          const element = document.querySelector('#df-4595eac1-ee68-4b26-92d3-5a3f5e5ee5d1');\n",
              "          const dataTable =\n",
              "            await google.colab.kernel.invokeFunction('convertToInteractive',\n",
              "                                                     [key], {});\n",
              "          if (!dataTable) return;\n",
              "\n",
              "          const docLinkHtml = 'Like what you see? Visit the ' +\n",
              "            '<a target=\"_blank\" href=https://colab.research.google.com/notebooks/data_table.ipynb>data table notebook</a>'\n",
              "            + ' to learn more about interactive tables.';\n",
              "          element.innerHTML = '';\n",
              "          dataTable['output_type'] = 'display_data';\n",
              "          await google.colab.output.renderOutput(dataTable, element);\n",
              "          const docLink = document.createElement('div');\n",
              "          docLink.innerHTML = docLinkHtml;\n",
              "          element.appendChild(docLink);\n",
              "        }\n",
              "      </script>\n",
              "    </div>\n",
              "  </div>\n",
              "  "
            ]
          },
          "metadata": {},
          "execution_count": 30
        }
      ]
    },
    {
      "cell_type": "code",
      "source": [
        "preced_df[\"Relative_Frequency\"].sum()"
      ],
      "metadata": {
        "colab": {
          "base_uri": "https://localhost:8080/"
        },
        "id": "qIr_BPuw7jep",
        "outputId": "3b2bf61e-1c26-40af-9df7-c98d8d3d5ec3"
      },
      "execution_count": null,
      "outputs": [
        {
          "output_type": "execute_result",
          "data": {
            "text/plain": [
              "99.975"
            ]
          },
          "metadata": {},
          "execution_count": 31
        }
      ]
    },
    {
      "cell_type": "code",
      "source": [
        "\n",
        "import plotly.express as px\n",
        "\n",
        "\n",
        "def plotly_precedence_matrix(df,\n",
        "                             y=\"Antecedent\",\n",
        "                             x=\"Consequent\",\n",
        "                             freq=\"Absolute_Frequency\",\n",
        "                             template=\"plotly_white\",\n",
        "                             title_text=\"Precedence Matrix\",\n",
        "                             height=600,\n",
        "                             width=1200,\n",
        "                             marker_size=50\n",
        "                             ):\n",
        "    \"\"\"\n",
        "    Function to plot Precedence Matrix in Plotly\n",
        "\n",
        "    Params:\n",
        "        df(a dataframe)         : a pandas dataframe\n",
        "        y(str)                  : Antecedent\n",
        "        x(str)                  : Consequent\n",
        "        freq(str)               : frequency -\n",
        "                                  Absolute_Frequency or Relative_Frequency\n",
        "        templete(str)           : Plotly templete\n",
        "        height(int)             : Plotly figure height\n",
        "        width(int)              : Plotly figure width\n",
        "        marker_size(int)        : Marker size\n",
        "\n",
        "    \"\"\"\n",
        "\n",
        "    fig = px.scatter(df,\n",
        "                     y=y,\n",
        "                     x=x,\n",
        "                     color=freq,\n",
        "                     text=freq,\n",
        "                     custom_data=[freq],\n",
        "                     color_continuous_scale=\"tealgrn\"\n",
        "                    # tealgrn, tealrose,teal,\n",
        "                    )\n",
        "\n",
        "    fig.update_traces(\n",
        "        hovertemplate=\"<br>\".join([\n",
        "            \"Antecedent: %{y}\",\n",
        "            \"Consequent: %{x}\",\n",
        "            \"Count: %{customdata[0]}\"\n",
        "        ]),\n",
        "        name=\"\"\n",
        "    )\n",
        "\n",
        "    fig.update_layout(\n",
        "        template=template,\n",
        "        # Figure title styling\n",
        "        title= dict(\n",
        "            text=title_text,\n",
        "            x=0.5,\n",
        "            y=0.95,\n",
        "            font=dict(\n",
        "                family=\"Rockwell\",\n",
        "                size=20,\n",
        "                color='#000000'\n",
        "                )\n",
        "            ),\n",
        "        xaxis_title=x,\n",
        "        yaxis_title=y,\n",
        "        font=dict(\n",
        "            # family=\"Rockwell\",\n",
        "            size=14),\n",
        "        # Fig height\n",
        "        height=height,\n",
        "        width=width,\n",
        "        # Turn off legend\n",
        "        showlegend=False,\n",
        "        hoverlabel=dict(\n",
        "            bgcolor=\"white\",\n",
        "            font_size=16,\n",
        "            font_family=\"Rockwell\"\n",
        "            )\n",
        "        )\n",
        "\n",
        "    fig.update_traces(marker=dict(size=marker_size,\n",
        "                                  symbol='square',\n",
        "                                  line=dict(width=2,\n",
        "                                            color='DarkSlateGrey',\n",
        "                                            )\n",
        "                                  ),\n",
        "\n",
        "                      textfont_color='black',\n",
        "                      opacity=0.75,\n",
        "                      textposition='middle center')\n",
        "\n",
        "    fig.update_coloraxes(colorbar_title_font_size=14,\n",
        "                         colorbar_title_side=\"right\")\n",
        "    fig.show()"
      ],
      "metadata": {
        "id": "gxXPuLrc2NtW"
      },
      "execution_count": null,
      "outputs": []
    },
    {
      "cell_type": "code",
      "source": [
        "plotly_precedence_matrix(preced_df,\n",
        "                         y=\"Antecedent\",\n",
        "                         x=\"Consequent\",\n",
        "                         freq=\"Relative_Frequency\",\n",
        "                         template=\"plotly_white\",\n",
        "                         title_text=\"Precedence Matrix\",\n",
        "                         marker_size=55\n",
        "                        #  height=1200,\n",
        "                        #  width=1500\n",
        "                        )"
      ],
      "metadata": {
        "colab": {
          "base_uri": "https://localhost:8080/",
          "height": 617
        },
        "id": "ZKnJF2zqrvh3",
        "outputId": "802160ee-ec13-4ec1-a816-685e6b0b115a"
      },
      "execution_count": null,
      "outputs": [
        {
          "output_type": "display_data",
          "data": {
            "text/html": [
              "<html>\n",
              "<head><meta charset=\"utf-8\" /></head>\n",
              "<body>\n",
              "    <div>            <script src=\"https://cdnjs.cloudflare.com/ajax/libs/mathjax/2.7.5/MathJax.js?config=TeX-AMS-MML_SVG\"></script><script type=\"text/javascript\">if (window.MathJax) {MathJax.Hub.Config({SVG: {font: \"STIX-Web\"}});}</script>                <script type=\"text/javascript\">window.PlotlyConfig = {MathJaxConfig: 'local'};</script>\n",
              "        <script src=\"https://cdn.plot.ly/plotly-2.8.3.min.js\"></script>                <div id=\"c02dae23-4317-4e8f-8164-f675b82eb999\" class=\"plotly-graph-div\" style=\"height:600px; width:1200px;\"></div>            <script type=\"text/javascript\">                                    window.PLOTLYENV=window.PLOTLYENV || {};                                    if (document.getElementById(\"c02dae23-4317-4e8f-8164-f675b82eb999\")) {                    Plotly.newPlot(                        \"c02dae23-4317-4e8f-8164-f675b82eb999\",                        [{\"customdata\":[[0.38],[0.25],[0.06],[0.25],[0.25],[0.25],[0.25],[0.25],[0.25],[0.06],[0.25],[0.38],[0.38],[0.38],[0.38],[0.38]],\"hovertemplate\":\"Antecedent: %{y}<br>Consequent: %{x}<br>Count: %{customdata[0]}\",\"legendgroup\":\"\",\"marker\":{\"color\":[0.38,0.25,0.06,0.25,0.25,0.25,0.25,0.25,0.25,0.06,0.25,0.38,0.38,0.38,0.38,0.38],\"coloraxis\":\"coloraxis\",\"symbol\":\"square\",\"line\":{\"color\":\"DarkSlateGrey\",\"width\":2},\"size\":55},\"mode\":\"markers+text\",\"name\":\"\",\"orientation\":\"v\",\"showlegend\":false,\"text\":[0.38,0.25,0.06,0.25,0.25,0.25,0.25,0.25,0.25,0.06,0.25,0.38,0.38,0.38,0.38,0.38],\"x\":[\"examine thoroughly\",\"check ticket\",\"decide\",\"reject request\",\"check ticket\",\"examine casually\",\"decide\",\"pay compensation\",\"examine casually\",\"check ticket\",\"reinitiate request\",\"examine thoroughly\",\"examine thoroughly\",\"decide\",\"check ticket\",\"examine casually\"],\"xaxis\":\"x\",\"y\":[\"register request\",\"examine thoroughly\",\"check ticket\",\"decide\",\"register request\",\"check ticket\",\"examine casually\",\"decide\",\"register request\",\"examine casually\",\"decide\",\"reinitiate request\",\"check ticket\",\"examine thoroughly\",\"reinitiate request\",\"reinitiate request\"],\"yaxis\":\"y\",\"type\":\"scatter\",\"textfont\":{\"color\":\"black\"},\"opacity\":0.75,\"textposition\":\"middle center\"}],                        {\"template\":{\"data\":{\"barpolar\":[{\"marker\":{\"line\":{\"color\":\"white\",\"width\":0.5},\"pattern\":{\"fillmode\":\"overlay\",\"size\":10,\"solidity\":0.2}},\"type\":\"barpolar\"}],\"bar\":[{\"error_x\":{\"color\":\"#2a3f5f\"},\"error_y\":{\"color\":\"#2a3f5f\"},\"marker\":{\"line\":{\"color\":\"white\",\"width\":0.5},\"pattern\":{\"fillmode\":\"overlay\",\"size\":10,\"solidity\":0.2}},\"type\":\"bar\"}],\"carpet\":[{\"aaxis\":{\"endlinecolor\":\"#2a3f5f\",\"gridcolor\":\"#C8D4E3\",\"linecolor\":\"#C8D4E3\",\"minorgridcolor\":\"#C8D4E3\",\"startlinecolor\":\"#2a3f5f\"},\"baxis\":{\"endlinecolor\":\"#2a3f5f\",\"gridcolor\":\"#C8D4E3\",\"linecolor\":\"#C8D4E3\",\"minorgridcolor\":\"#C8D4E3\",\"startlinecolor\":\"#2a3f5f\"},\"type\":\"carpet\"}],\"choropleth\":[{\"colorbar\":{\"outlinewidth\":0,\"ticks\":\"\"},\"type\":\"choropleth\"}],\"contourcarpet\":[{\"colorbar\":{\"outlinewidth\":0,\"ticks\":\"\"},\"type\":\"contourcarpet\"}],\"contour\":[{\"colorbar\":{\"outlinewidth\":0,\"ticks\":\"\"},\"colorscale\":[[0.0,\"#0d0887\"],[0.1111111111111111,\"#46039f\"],[0.2222222222222222,\"#7201a8\"],[0.3333333333333333,\"#9c179e\"],[0.4444444444444444,\"#bd3786\"],[0.5555555555555556,\"#d8576b\"],[0.6666666666666666,\"#ed7953\"],[0.7777777777777778,\"#fb9f3a\"],[0.8888888888888888,\"#fdca26\"],[1.0,\"#f0f921\"]],\"type\":\"contour\"}],\"heatmapgl\":[{\"colorbar\":{\"outlinewidth\":0,\"ticks\":\"\"},\"colorscale\":[[0.0,\"#0d0887\"],[0.1111111111111111,\"#46039f\"],[0.2222222222222222,\"#7201a8\"],[0.3333333333333333,\"#9c179e\"],[0.4444444444444444,\"#bd3786\"],[0.5555555555555556,\"#d8576b\"],[0.6666666666666666,\"#ed7953\"],[0.7777777777777778,\"#fb9f3a\"],[0.8888888888888888,\"#fdca26\"],[1.0,\"#f0f921\"]],\"type\":\"heatmapgl\"}],\"heatmap\":[{\"colorbar\":{\"outlinewidth\":0,\"ticks\":\"\"},\"colorscale\":[[0.0,\"#0d0887\"],[0.1111111111111111,\"#46039f\"],[0.2222222222222222,\"#7201a8\"],[0.3333333333333333,\"#9c179e\"],[0.4444444444444444,\"#bd3786\"],[0.5555555555555556,\"#d8576b\"],[0.6666666666666666,\"#ed7953\"],[0.7777777777777778,\"#fb9f3a\"],[0.8888888888888888,\"#fdca26\"],[1.0,\"#f0f921\"]],\"type\":\"heatmap\"}],\"histogram2dcontour\":[{\"colorbar\":{\"outlinewidth\":0,\"ticks\":\"\"},\"colorscale\":[[0.0,\"#0d0887\"],[0.1111111111111111,\"#46039f\"],[0.2222222222222222,\"#7201a8\"],[0.3333333333333333,\"#9c179e\"],[0.4444444444444444,\"#bd3786\"],[0.5555555555555556,\"#d8576b\"],[0.6666666666666666,\"#ed7953\"],[0.7777777777777778,\"#fb9f3a\"],[0.8888888888888888,\"#fdca26\"],[1.0,\"#f0f921\"]],\"type\":\"histogram2dcontour\"}],\"histogram2d\":[{\"colorbar\":{\"outlinewidth\":0,\"ticks\":\"\"},\"colorscale\":[[0.0,\"#0d0887\"],[0.1111111111111111,\"#46039f\"],[0.2222222222222222,\"#7201a8\"],[0.3333333333333333,\"#9c179e\"],[0.4444444444444444,\"#bd3786\"],[0.5555555555555556,\"#d8576b\"],[0.6666666666666666,\"#ed7953\"],[0.7777777777777778,\"#fb9f3a\"],[0.8888888888888888,\"#fdca26\"],[1.0,\"#f0f921\"]],\"type\":\"histogram2d\"}],\"histogram\":[{\"marker\":{\"pattern\":{\"fillmode\":\"overlay\",\"size\":10,\"solidity\":0.2}},\"type\":\"histogram\"}],\"mesh3d\":[{\"colorbar\":{\"outlinewidth\":0,\"ticks\":\"\"},\"type\":\"mesh3d\"}],\"parcoords\":[{\"line\":{\"colorbar\":{\"outlinewidth\":0,\"ticks\":\"\"}},\"type\":\"parcoords\"}],\"pie\":[{\"automargin\":true,\"type\":\"pie\"}],\"scatter3d\":[{\"line\":{\"colorbar\":{\"outlinewidth\":0,\"ticks\":\"\"}},\"marker\":{\"colorbar\":{\"outlinewidth\":0,\"ticks\":\"\"}},\"type\":\"scatter3d\"}],\"scattercarpet\":[{\"marker\":{\"colorbar\":{\"outlinewidth\":0,\"ticks\":\"\"}},\"type\":\"scattercarpet\"}],\"scattergeo\":[{\"marker\":{\"colorbar\":{\"outlinewidth\":0,\"ticks\":\"\"}},\"type\":\"scattergeo\"}],\"scattergl\":[{\"marker\":{\"colorbar\":{\"outlinewidth\":0,\"ticks\":\"\"}},\"type\":\"scattergl\"}],\"scattermapbox\":[{\"marker\":{\"colorbar\":{\"outlinewidth\":0,\"ticks\":\"\"}},\"type\":\"scattermapbox\"}],\"scatterpolargl\":[{\"marker\":{\"colorbar\":{\"outlinewidth\":0,\"ticks\":\"\"}},\"type\":\"scatterpolargl\"}],\"scatterpolar\":[{\"marker\":{\"colorbar\":{\"outlinewidth\":0,\"ticks\":\"\"}},\"type\":\"scatterpolar\"}],\"scatter\":[{\"marker\":{\"colorbar\":{\"outlinewidth\":0,\"ticks\":\"\"}},\"type\":\"scatter\"}],\"scatterternary\":[{\"marker\":{\"colorbar\":{\"outlinewidth\":0,\"ticks\":\"\"}},\"type\":\"scatterternary\"}],\"surface\":[{\"colorbar\":{\"outlinewidth\":0,\"ticks\":\"\"},\"colorscale\":[[0.0,\"#0d0887\"],[0.1111111111111111,\"#46039f\"],[0.2222222222222222,\"#7201a8\"],[0.3333333333333333,\"#9c179e\"],[0.4444444444444444,\"#bd3786\"],[0.5555555555555556,\"#d8576b\"],[0.6666666666666666,\"#ed7953\"],[0.7777777777777778,\"#fb9f3a\"],[0.8888888888888888,\"#fdca26\"],[1.0,\"#f0f921\"]],\"type\":\"surface\"}],\"table\":[{\"cells\":{\"fill\":{\"color\":\"#EBF0F8\"},\"line\":{\"color\":\"white\"}},\"header\":{\"fill\":{\"color\":\"#C8D4E3\"},\"line\":{\"color\":\"white\"}},\"type\":\"table\"}]},\"layout\":{\"annotationdefaults\":{\"arrowcolor\":\"#2a3f5f\",\"arrowhead\":0,\"arrowwidth\":1},\"autotypenumbers\":\"strict\",\"coloraxis\":{\"colorbar\":{\"outlinewidth\":0,\"ticks\":\"\"}},\"colorscale\":{\"diverging\":[[0,\"#8e0152\"],[0.1,\"#c51b7d\"],[0.2,\"#de77ae\"],[0.3,\"#f1b6da\"],[0.4,\"#fde0ef\"],[0.5,\"#f7f7f7\"],[0.6,\"#e6f5d0\"],[0.7,\"#b8e186\"],[0.8,\"#7fbc41\"],[0.9,\"#4d9221\"],[1,\"#276419\"]],\"sequential\":[[0.0,\"#0d0887\"],[0.1111111111111111,\"#46039f\"],[0.2222222222222222,\"#7201a8\"],[0.3333333333333333,\"#9c179e\"],[0.4444444444444444,\"#bd3786\"],[0.5555555555555556,\"#d8576b\"],[0.6666666666666666,\"#ed7953\"],[0.7777777777777778,\"#fb9f3a\"],[0.8888888888888888,\"#fdca26\"],[1.0,\"#f0f921\"]],\"sequentialminus\":[[0.0,\"#0d0887\"],[0.1111111111111111,\"#46039f\"],[0.2222222222222222,\"#7201a8\"],[0.3333333333333333,\"#9c179e\"],[0.4444444444444444,\"#bd3786\"],[0.5555555555555556,\"#d8576b\"],[0.6666666666666666,\"#ed7953\"],[0.7777777777777778,\"#fb9f3a\"],[0.8888888888888888,\"#fdca26\"],[1.0,\"#f0f921\"]]},\"colorway\":[\"#636efa\",\"#EF553B\",\"#00cc96\",\"#ab63fa\",\"#FFA15A\",\"#19d3f3\",\"#FF6692\",\"#B6E880\",\"#FF97FF\",\"#FECB52\"],\"font\":{\"color\":\"#2a3f5f\"},\"geo\":{\"bgcolor\":\"white\",\"lakecolor\":\"white\",\"landcolor\":\"white\",\"showlakes\":true,\"showland\":true,\"subunitcolor\":\"#C8D4E3\"},\"hoverlabel\":{\"align\":\"left\"},\"hovermode\":\"closest\",\"mapbox\":{\"style\":\"light\"},\"paper_bgcolor\":\"white\",\"plot_bgcolor\":\"white\",\"polar\":{\"angularaxis\":{\"gridcolor\":\"#EBF0F8\",\"linecolor\":\"#EBF0F8\",\"ticks\":\"\"},\"bgcolor\":\"white\",\"radialaxis\":{\"gridcolor\":\"#EBF0F8\",\"linecolor\":\"#EBF0F8\",\"ticks\":\"\"}},\"scene\":{\"xaxis\":{\"backgroundcolor\":\"white\",\"gridcolor\":\"#DFE8F3\",\"gridwidth\":2,\"linecolor\":\"#EBF0F8\",\"showbackground\":true,\"ticks\":\"\",\"zerolinecolor\":\"#EBF0F8\"},\"yaxis\":{\"backgroundcolor\":\"white\",\"gridcolor\":\"#DFE8F3\",\"gridwidth\":2,\"linecolor\":\"#EBF0F8\",\"showbackground\":true,\"ticks\":\"\",\"zerolinecolor\":\"#EBF0F8\"},\"zaxis\":{\"backgroundcolor\":\"white\",\"gridcolor\":\"#DFE8F3\",\"gridwidth\":2,\"linecolor\":\"#EBF0F8\",\"showbackground\":true,\"ticks\":\"\",\"zerolinecolor\":\"#EBF0F8\"}},\"shapedefaults\":{\"line\":{\"color\":\"#2a3f5f\"}},\"ternary\":{\"aaxis\":{\"gridcolor\":\"#DFE8F3\",\"linecolor\":\"#A2B1C6\",\"ticks\":\"\"},\"baxis\":{\"gridcolor\":\"#DFE8F3\",\"linecolor\":\"#A2B1C6\",\"ticks\":\"\"},\"bgcolor\":\"white\",\"caxis\":{\"gridcolor\":\"#DFE8F3\",\"linecolor\":\"#A2B1C6\",\"ticks\":\"\"}},\"title\":{\"x\":0.05},\"xaxis\":{\"automargin\":true,\"gridcolor\":\"#EBF0F8\",\"linecolor\":\"#EBF0F8\",\"ticks\":\"\",\"title\":{\"standoff\":15},\"zerolinecolor\":\"#EBF0F8\",\"zerolinewidth\":2},\"yaxis\":{\"automargin\":true,\"gridcolor\":\"#EBF0F8\",\"linecolor\":\"#EBF0F8\",\"ticks\":\"\",\"title\":{\"standoff\":15},\"zerolinecolor\":\"#EBF0F8\",\"zerolinewidth\":2}}},\"xaxis\":{\"anchor\":\"y\",\"domain\":[0.0,1.0],\"title\":{\"text\":\"Consequent\"}},\"yaxis\":{\"anchor\":\"x\",\"domain\":[0.0,1.0],\"title\":{\"text\":\"Antecedent\"}},\"coloraxis\":{\"colorbar\":{\"title\":{\"text\":\"Relative_Frequency\",\"font\":{\"size\":14},\"side\":\"right\"}},\"colorscale\":[[0.0,\"rgb(176, 242, 188)\"],[0.16666666666666666,\"rgb(137, 232, 172)\"],[0.3333333333333333,\"rgb(103, 219, 165)\"],[0.5,\"rgb(76, 200, 163)\"],[0.6666666666666666,\"rgb(56, 178, 163)\"],[0.8333333333333334,\"rgb(44, 152, 160)\"],[1.0,\"rgb(37, 125, 152)\"]]},\"legend\":{\"tracegroupgap\":0},\"margin\":{\"t\":60},\"title\":{\"font\":{\"family\":\"Rockwell\",\"size\":20,\"color\":\"#000000\"},\"text\":\"Precedence Matrix\",\"x\":0.5,\"y\":0.95},\"font\":{\"size\":14},\"hoverlabel\":{\"font\":{\"size\":16,\"family\":\"Rockwell\"},\"bgcolor\":\"white\"},\"height\":600,\"width\":1200,\"showlegend\":false},                        {\"responsive\": true}                    ).then(function(){\n",
              "                            \n",
              "var gd = document.getElementById('c02dae23-4317-4e8f-8164-f675b82eb999');\n",
              "var x = new MutationObserver(function (mutations, observer) {{\n",
              "        var display = window.getComputedStyle(gd).display;\n",
              "        if (!display || display === 'none') {{\n",
              "            console.log([gd, 'removed!']);\n",
              "            Plotly.purge(gd);\n",
              "            observer.disconnect();\n",
              "        }}\n",
              "}});\n",
              "\n",
              "// Listen for the removal of the full notebook cells\n",
              "var notebookContainer = gd.closest('#notebook-container');\n",
              "if (notebookContainer) {{\n",
              "    x.observe(notebookContainer, {childList: true});\n",
              "}}\n",
              "\n",
              "// Listen for the clearing of the current output cell\n",
              "var outputEl = gd.closest('.output');\n",
              "if (outputEl) {{\n",
              "    x.observe(outputEl, {childList: true});\n",
              "}}\n",
              "\n",
              "                        })                };                            </script>        </div>\n",
              "</body>\n",
              "</html>"
            ]
          },
          "metadata": {}
        }
      ]
    },
    {
      "cell_type": "code",
      "source": [],
      "metadata": {
        "id": "Ko5yT30N7YFN"
      },
      "execution_count": null,
      "outputs": []
    }
  ]
}